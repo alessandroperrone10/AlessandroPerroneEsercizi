{
 "cells": [
  {
   "cell_type": "code",
   "execution_count": null,
   "metadata": {},
   "outputs": [],
   "source": [
    "import pandas as pd\n",
    "import numpy as np\n"
   ]
  },
  {
   "cell_type": "code",
   "execution_count": 5,
   "metadata": {},
   "outputs": [
    {
     "name": "stdout",
     "output_type": "stream",
     "text": [
      "  key  value1\n",
      "0   A       1\n",
      "1   B       2\n",
      "2   C       3\n",
      "  key  value2\n",
      "0   A       4\n",
      "1   B       5\n",
      "2   D       6\n"
     ]
    }
   ],
   "source": [
    "df1 = pd.DataFrame({\n",
    "'key': ['A', 'B', 'C'],\n",
    "'value1': [1, 2, 3]\n",
    "})\n",
    "\n",
    "df2 = pd.DataFrame({\n",
    "'key': ['A', 'B', 'D'],\n",
    "'value2': [4, 5, 6]\n",
    "})\n",
    "\n",
    "#visualizzo i dataframe iniziali\n",
    "print(df1)\n",
    "\n",
    "print(df2)\n",
    "\n",
    "\n"
   ]
  },
  {
   "cell_type": "code",
   "execution_count": 16,
   "metadata": {},
   "outputs": [
    {
     "name": "stdout",
     "output_type": "stream",
     "text": [
      "  key  value1  value2\n",
      "0   A       1       4\n",
      "1   B       2       5\n"
     ]
    }
   ],
   "source": [
    "#merge dei due dataframe\n",
    "df_merge = pd.merge(df1, df2, on='key')\n",
    "\n",
    "print(df_merge)"
   ]
  },
  {
   "cell_type": "code",
   "execution_count": null,
   "metadata": {},
   "outputs": [
    {
     "name": "stdout",
     "output_type": "stream",
     "text": [
      "  key  value1  value2\n",
      "0   A     1.0     4.0\n",
      "1   B     2.0     5.0\n",
      "2   C     3.0     NaN\n",
      "3   D     NaN     6.0\n"
     ]
    }
   ],
   "source": [
    "#merge dei due dataframe mostrando tutte le righe di entrambi\n",
    "df_merge2 = pd.merge(df1, df2, on='key', how='outer')\n",
    "print(df_merge2)"
   ]
  },
  {
   "cell_type": "code",
   "execution_count": 19,
   "metadata": {},
   "outputs": [
    {
     "name": "stdout",
     "output_type": "stream",
     "text": [
      "Primo dataframe: \n",
      "     A  B\n",
      "0  foo  1\n",
      "1  bar  2\n",
      "Secondo dataframe: \n",
      "     A  B\n",
      "0  baz  3\n",
      "1  qux  4\n"
     ]
    }
   ],
   "source": [
    "df1 = pd.DataFrame({\n",
    "'A': ['foo', 'bar'],\n",
    "'B': [1, 2]\n",
    "})\n",
    "\n",
    "df2 = pd.DataFrame({\n",
    "'A': ['baz', 'qux'],\n",
    "'B': [3, 4]\n",
    "})\n",
    "\n",
    "#visualizzo i dataframe iniziali\n",
    "print(\"Primo dataframe: \")\n",
    "print(df1)\n",
    "print(\"Secondo dataframe: \")\n",
    "print(df2)"
   ]
  },
  {
   "cell_type": "code",
   "execution_count": 20,
   "metadata": {},
   "outputs": [
    {
     "name": "stdout",
     "output_type": "stream",
     "text": [
      "     A  B\n",
      "0  foo  1\n",
      "1  bar  2\n",
      "0  baz  3\n",
      "1  qux  4\n"
     ]
    }
   ],
   "source": [
    "#combino i due dataframe impilandoli uno sopra l'altro\n",
    "\n",
    "df_concat = pd.concat([df1, df2])\n",
    "\n",
    "print(df_concat)"
   ]
  },
  {
   "cell_type": "code",
   "execution_count": 22,
   "metadata": {},
   "outputs": [
    {
     "name": "stdout",
     "output_type": "stream",
     "text": [
      "Primo dataframe: \n",
      "  chiave1 chiave2   A\n",
      "0      K0      K0  A0\n",
      "1      K1      K1  A1\n",
      "2      K2      K0  A2\n",
      "Secondo dataframe: \n",
      "  chiave1 chiave2   B\n",
      "0      K0      K0  B0\n",
      "1      K1      K0  B1\n",
      "2      K3      K0  B3\n"
     ]
    }
   ],
   "source": [
    "df1 = pd.DataFrame({\n",
    "'chiave1': ['K0', 'K1', 'K2'],\n",
    "'chiave2': ['K0', 'K1', 'K0'],\n",
    "'A': ['A0', 'A1', 'A2']\n",
    "})\n",
    "\n",
    "df2 = pd.DataFrame({\n",
    "'chiave1': ['K0', 'K1', 'K3'],\n",
    "'chiave2': ['K0', 'K0', 'K0'],\n",
    "'B': ['B0', 'B1', 'B3']\n",
    "})\n",
    "\n",
    "\n",
    "print(\"Primo dataframe: \")\n",
    "print(df1)\n",
    "\n",
    "print(\"Secondo dataframe: \")\n",
    "print(df2)\n"
   ]
  },
  {
   "cell_type": "code",
   "execution_count": 27,
   "metadata": {},
   "outputs": [
    {
     "name": "stdout",
     "output_type": "stream",
     "text": [
      "DataFrame con merge:\n",
      "  chiave1 chiave2   A    B\n",
      "0      K0      K0  A0   B0\n",
      "1      K1      K1  A1  NaN\n",
      "2      K2      K0  A2  NaN\n",
      "DataFrame con combine:\n",
      "    A   B chiave1 chiave2\n",
      "0  A0  B0      K0      K0\n",
      "1  A1  B1      K1      K1\n",
      "2  A2  B3      K2      K0\n"
     ]
    }
   ],
   "source": [
    "#Unisci df1 e df2 sulle colonne 'chiave1' e 'chiave2' includendo tutte le righe di df1. Qual è il DataFrame risultante?\n",
    "merged_df = pd.merge(df1, df2, on=['chiave1', 'chiave2'], how='left')\n",
    "\n",
    "print(\"DataFrame con merge:\")\n",
    "print(merged_df)\n",
    "\n",
    "\n",
    "combine = df1.combine_first(df2)\n",
    "\n",
    "print(\"DataFrame con combine:\")\n",
    "print(combine)\n"
   ]
  },
  {
   "cell_type": "code",
   "execution_count": 28,
   "metadata": {},
   "outputs": [
    {
     "name": "stdout",
     "output_type": "stream",
     "text": [
      "Primo dataframe: \n",
      "    A   B\n",
      "0  A0  B0\n",
      "1  A1  B1\n",
      "2  A2  B2\n",
      "Secondo dataframe: \n",
      "    C   D\n",
      "0  C0  D0\n",
      "2  C1  D1\n",
      "3  C2  D2\n"
     ]
    }
   ],
   "source": [
    "df1 = pd.DataFrame({\n",
    "'A': ['A0', 'A1', 'A2'],\n",
    "'B': ['B0', 'B1', 'B2']\n",
    "}, index=[0, 1, 2])\n",
    "\n",
    "df2 = pd.DataFrame({\n",
    "'C': ['C0', 'C1', 'C2'],\n",
    "'D': ['D0', 'D1', 'D2']\n",
    "}, index=[0, 2, 3])\n",
    "\n",
    "#visualizzo i dataframe iniziali\n",
    "print(\"Primo dataframe: \")\n",
    "print(df1)\n",
    "\n",
    "print(\"Secondo dataframe: \")\n",
    "print(df2)"
   ]
  },
  {
   "cell_type": "code",
   "execution_count": 31,
   "metadata": {},
   "outputs": [
    {
     "name": "stdout",
     "output_type": "stream",
     "text": [
      "     A    B    C    D\n",
      "0   A0   B0   C0   D0\n",
      "1   A1   B1  NaN  NaN\n",
      "2   A2   B2   C1   D1\n",
      "3  NaN  NaN   C2   D2\n"
     ]
    }
   ],
   "source": [
    "#Combina df1 e df2 affiancandoli, allineando gli indici.\n",
    "combine = df1.combine_first(df2)\n",
    "\n",
    "print(combine)"
   ]
  }
 ],
 "metadata": {
  "kernelspec": {
   "display_name": "Python 3",
   "language": "python",
   "name": "python3"
  },
  "language_info": {
   "codemirror_mode": {
    "name": "ipython",
    "version": 3
   },
   "file_extension": ".py",
   "mimetype": "text/x-python",
   "name": "python",
   "nbconvert_exporter": "python",
   "pygments_lexer": "ipython3",
   "version": "3.13.0"
  }
 },
 "nbformat": 4,
 "nbformat_minor": 2
}
