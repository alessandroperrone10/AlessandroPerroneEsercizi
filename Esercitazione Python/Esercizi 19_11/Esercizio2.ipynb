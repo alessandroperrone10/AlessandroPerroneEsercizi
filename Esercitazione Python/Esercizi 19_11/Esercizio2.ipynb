{
 "cells": [
  {
   "cell_type": "code",
   "execution_count": 1,
   "metadata": {},
   "outputs": [],
   "source": [
    "import pandas as pd \n",
    "import numpy as np"
   ]
  },
  {
   "cell_type": "code",
   "execution_count": 4,
   "metadata": {},
   "outputs": [
    {
     "name": "stdout",
     "output_type": "stream",
     "text": [
      "Primo data frame: \n",
      "  chiave   A\n",
      "0     K0  A0\n",
      "1     K1  A1\n",
      "2     K2  A2\n",
      "3     K3  A3\n",
      "\n",
      "Secondo data frame: \n",
      "  chiave   B\n",
      "0     K0  B0\n",
      "1     K1  B1\n",
      "2     K2  B2\n",
      "\n",
      "Terzo data frame: \n",
      "  chiave   C\n",
      "0     K1  C1\n",
      "1     K2  C2\n",
      "2     K4  C4\n"
     ]
    }
   ],
   "source": [
    "df1 = pd.DataFrame({\n",
    "'chiave': ['K0', 'K1', 'K2', 'K3'],\n",
    "'A': ['A0', 'A1', 'A2', 'A3']\n",
    "})\n",
    "\n",
    "df2 = pd.DataFrame({\n",
    "'chiave': ['K0', 'K1', 'K2'],\n",
    "'B': ['B0', 'B1', 'B2']\n",
    "})\n",
    "\n",
    "df3 = pd.DataFrame({\n",
    "'chiave': ['K1', 'K2', 'K4'],\n",
    "'C': ['C1', 'C2', 'C4']\n",
    "})\n",
    "\n",
    "\n",
    "\n",
    "print(\"Primo data frame: \")\n",
    "print(df1)\n",
    "\n",
    "\n",
    "print(\"\\nSecondo data frame: \")\n",
    "print(df2)\n",
    "\n",
    "\n",
    "print(\"\\nTerzo data frame: \")\n",
    "print(df3)"
   ]
  },
  {
   "cell_type": "code",
   "execution_count": 8,
   "metadata": {},
   "outputs": [
    {
     "name": "stdout",
     "output_type": "stream",
     "text": [
      "Merge tra primo e seconda data frame: \n",
      "  chiave   A   B\n",
      "0     K0  A0  B0\n",
      "1     K1  A1  B1\n",
      "2     K2  A2  B2\n",
      "\n",
      "Merge tra primo, secondo e terzo data frame: \n",
      "  chiave    A    B   C\n",
      "0     K1   A1   B1  C1\n",
      "1     K2   A2   B2  C2\n",
      "2     K4  NaN  NaN  C4\n"
     ]
    }
   ],
   "source": [
    "#Unisci prima df1 e df2 includendo solo le chiavi comuni. Poi, unisci il risultato con df3 includendo tutte le chiavi di df3.\n",
    "\n",
    "primo_merge = pd.merge(df1, df2, on='chiave')\n",
    "print(\"Merge tra primo e seconda data frame: \")\n",
    "print(primo_merge)\n",
    "\n",
    "secondo_merge = pd.merge(primo_merge, df3, on='chiave', how='right')\n",
    "\n",
    "print(\"\\nMerge tra primo, secondo e terzo data frame: \")\n",
    "print(secondo_merge)"
   ]
  },
  {
   "cell_type": "code",
   "execution_count": 11,
   "metadata": {},
   "outputs": [
    {
     "name": "stdout",
     "output_type": "stream",
     "text": [
      "Data frame: \n",
      "      Data Categoria  Valore\n",
      "0  2024-01         A      10\n",
      "1  2024-01         B      20\n",
      "2  2024-02         A      15\n",
      "3  2024-02         B      25\n"
     ]
    }
   ],
   "source": [
    "data = {\n",
    "'Data': ['2024-01', '2024-01', '2024-02', '2024-02'],\n",
    "'Categoria': ['A', 'B', 'A', 'B'],\n",
    "'Valore': [10, 20, 15, 25]\n",
    "}\n",
    "\n",
    "df = pd.DataFrame(data)\n",
    "\n",
    "print(\"Data frame: \")\n",
    "print(df)"
   ]
  },
  {
   "cell_type": "code",
   "execution_count": null,
   "metadata": {},
   "outputs": [
    {
     "name": "stdout",
     "output_type": "stream",
     "text": [
      "\n",
      "Data frame pivotata: \n",
      "Categoria   A   B\n",
      "Data             \n",
      "2024-01    10  20\n",
      "2024-02    15  25\n"
     ]
    }
   ],
   "source": [
    "#Riorganizza il DataFrame in modo che ogni categoria diventi una colonna e i valori siano distribuiti di conseguenza per ogni data.\n",
    "\n",
    "\n",
    "pivot_df = df.pivot(index='Data', columns='Categoria', values='Valore')\n",
    "print(\"Data frame pivotata: \")\n",
    "print(pivot_df)\n"
   ]
  },
  {
   "cell_type": "code",
   "execution_count": 16,
   "metadata": {},
   "outputs": [],
   "source": [
    "data = {\n",
    "'Venditore': ['Alice', 'Bob', 'Alice', 'Bob', 'Charlie'],\n",
    "'Mese': ['Gennaio', 'Gennaio', 'Febbraio', 'Febbraio', 'Gennaio'],\n",
    "'Vendite': [200, 150, 300, 250, 100]\n",
    "}\n",
    "\n",
    "df = pd.DataFrame(data)\n",
    "\n",
    "#Crea una tabella pivot che mostri la somma delle vendite per ogni venditore e mese."
   ]
  },
  {
   "cell_type": "code",
   "execution_count": 17,
   "metadata": {},
   "outputs": [
    {
     "name": "stdout",
     "output_type": "stream",
     "text": [
      "Tabella pivot:\n",
      "Mese       Febbraio  Gennaio\n",
      "Venditore                   \n",
      "Alice         300.0    200.0\n",
      "Bob           250.0    150.0\n",
      "Charlie         NaN    100.0\n"
     ]
    }
   ],
   "source": [
    "#Crea una tabella pivot che mostri la somma delle vendite per ogni venditore e mese.\n",
    "pivot_table = pd.pivot_table(df, values='Vendite', index='Venditore', columns='Mese', aggfunc='sum')\n",
    "\n",
    "print(\"Tabella pivot:\")\n",
    "print(pivot_table)\n"
   ]
  }
 ],
 "metadata": {
  "kernelspec": {
   "display_name": "Python 3",
   "language": "python",
   "name": "python3"
  },
  "language_info": {
   "codemirror_mode": {
    "name": "ipython",
    "version": 3
   },
   "file_extension": ".py",
   "mimetype": "text/x-python",
   "name": "python",
   "nbconvert_exporter": "python",
   "pygments_lexer": "ipython3",
   "version": "3.13.0"
  }
 },
 "nbformat": 4,
 "nbformat_minor": 2
}
