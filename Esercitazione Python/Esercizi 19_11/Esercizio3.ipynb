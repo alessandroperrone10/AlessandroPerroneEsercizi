{
 "cells": [
  {
   "cell_type": "code",
   "execution_count": 2,
   "metadata": {},
   "outputs": [],
   "source": [
    "import pandas as pd \n",
    "import numpy as np "
   ]
  },
  {
   "cell_type": "code",
   "execution_count": 3,
   "metadata": {},
   "outputs": [
    {
     "name": "stdout",
     "output_type": "stream",
     "text": [
      "  Regione Prodotto  Vendite\n",
      "0    Nord        A      100\n",
      "1     Sud        A      150\n",
      "2    Nord        B      200\n",
      "3     Est        B      250\n",
      "4   Ovest        A      300\n",
      "5     Sud        B      350\n",
      "6     Est        A      400\n",
      "7   Ovest        B      450\n"
     ]
    }
   ],
   "source": [
    "data = {\n",
    "'Regione': ['Nord', 'Sud', 'Nord', 'Est', 'Ovest', 'Sud', 'Est', 'Ovest'],\n",
    "'Prodotto': ['A', 'A', 'B', 'B', 'A', 'B', 'A', 'B'],\n",
    "'Vendite': [100, 150, 200, 250, 300, 350, 400, 450]\n",
    "}\n",
    "\n",
    "\n",
    "df = pd.DataFrame(data)\n",
    "\n",
    "#DataFrame iniziale\n",
    "print(df)"
   ]
  },
  {
   "cell_type": "code",
   "execution_count": null,
   "metadata": {},
   "outputs": [
    {
     "name": "stdout",
     "output_type": "stream",
     "text": [
      "           mean        variance     \n",
      "Prodotto      A      B        A    B\n",
      "Regione                             \n",
      "Est       400.0  250.0      0.0  0.0\n",
      "Nord      100.0  200.0      0.0  0.0\n",
      "Ovest     300.0  450.0      0.0  0.0\n",
      "Sud       150.0  350.0      0.0  0.0\n"
     ]
    }
   ],
   "source": [
    "#mostrare la media delle vendite di ogni combinazione di Regione e Prodotto\n",
    "def varianza(x):\n",
    "    return np.var(x)\n",
    "\n",
    "pivot_mean = df.pivot_table(index='Regione', columns='Prodotto', values='Vendite', aggfunc=['mean',varianza], fill_value=0)\n",
    "\n",
    "print(pivot_mean)"
   ]
  }
 ],
 "metadata": {
  "kernelspec": {
   "display_name": "Python 3",
   "language": "python",
   "name": "python3"
  },
  "language_info": {
   "codemirror_mode": {
    "name": "ipython",
    "version": 3
   },
   "file_extension": ".py",
   "mimetype": "text/x-python",
   "name": "python",
   "nbconvert_exporter": "python",
   "pygments_lexer": "ipython3",
   "version": "3.13.0"
  }
 },
 "nbformat": 4,
 "nbformat_minor": 2
}
