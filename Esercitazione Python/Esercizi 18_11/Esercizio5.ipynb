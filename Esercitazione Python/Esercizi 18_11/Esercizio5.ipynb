{
 "cells": [
  {
   "cell_type": "code",
   "execution_count": 1,
   "metadata": {},
   "outputs": [
    {
     "name": "stdout",
     "output_type": "stream",
     "text": [
      "       Name Department  Salary  Experience\n",
      "0     Alice         HR   50000           2\n",
      "1       Bob    Finance   60000           5\n",
      "2   Charlie         IT   70000           8\n",
      "3     David         HR   52000           3\n",
      "4       Eva    Finance   58000           4\n",
      "5     Frank         IT   72000          10\n",
      "6     Grace         HR   55000           4\n",
      "7    Hannah    Finance   62000           6\n",
      "8       Ian         IT   75000          12\n",
      "9      Jack         HR   51000           1\n",
      "10     Kara    Finance   63000           7\n",
      "11     Liam         IT   76000          15\n"
     ]
    }
   ],
   "source": [
    "import pandas as pd\n",
    "import numpy as np\n",
    "\n",
    "#Creazione del DataFrame\n",
    "data = {\n",
    "'Name': ['Alice', 'Bob', 'Charlie', 'David', 'Eva', 'Frank', 'Grace', 'Hannah', 'Ian', 'Jack', 'Kara', 'Liam'],\n",
    "'Department': ['HR', 'Finance', 'IT', 'HR', 'Finance', 'IT', 'HR', 'Finance', 'IT', 'HR', 'Finance', 'IT'],\n",
    "'Salary': [50000, 60000, 70000, 52000, 58000, 72000, 55000, 62000, 75000, 51000, 63000, 76000],\n",
    "'Experience': [2, 5, 8, 3, 4, 10, 4, 6, 12, 1, 7, 15]\n",
    "}\n",
    "df = pd.DataFrame(data)\n",
    "print(df)"
   ]
  },
  {
   "cell_type": "code",
   "execution_count": 2,
   "metadata": {},
   "outputs": [
    {
     "name": "stdout",
     "output_type": "stream",
     "text": [
      "Medie: \n",
      "             Salary  Experience\n",
      "Department                     \n",
      "Finance     60750.0        5.50\n",
      "HR          52000.0        2.50\n",
      "IT          73250.0       11.25\n"
     ]
    }
   ],
   "source": [
    "#la media dello stipendio e dell'esperienza per ogni dipartimento\n",
    "\n",
    "media_salario = df.groupby('Department')['Salary'].mean()\n",
    "media_esperienza = df.groupby('Department')['Experience'].mean()\n",
    "dataframe_medie = pd.concat([media_salario, media_esperienza], axis=1)\n",
    "\n",
    "print(\"Medie: \")\n",
    "print(dataframe_medie)"
   ]
  },
  {
   "cell_type": "code",
   "execution_count": 3,
   "metadata": {},
   "outputs": [
    {
     "name": "stdout",
     "output_type": "stream",
     "text": [
      "\n",
      "Dipendenti con uno stipendio sopra la media:\n",
      "       Name Department  Salary  Experience\n",
      "2   Charlie         IT   70000           8\n",
      "5     Frank         IT   72000          10\n",
      "8       Ian         IT   75000          12\n",
      "10     Kara    Finance   63000           7\n",
      "11     Liam         IT   76000          15\n"
     ]
    }
   ],
   "source": [
    "#trovare i dipendenti con uno stipendio sopra la media\n",
    "\n",
    "dipendenti_sopra_media_salario = df[df['Salary'] > df['Salary'].mean()]\n",
    "print(\"\\nDipendenti con uno stipendio sopra la media:\")\n",
    "print(dipendenti_sopra_media_salario)"
   ]
  },
  {
   "cell_type": "code",
   "execution_count": null,
   "metadata": {},
   "outputs": [
    {
     "name": "stdout",
     "output_type": "stream",
     "text": [
      "       Name Department  Salary  Experience  Rank\n",
      "0     Alice         HR   50000           2   4.0\n",
      "1       Bob    Finance   60000           5   3.0\n",
      "2   Charlie         IT   70000           8   4.0\n",
      "3     David         HR   52000           3   2.0\n",
      "4       Eva    Finance   58000           4   4.0\n",
      "5     Frank         IT   72000          10   3.0\n",
      "6     Grace         HR   55000           4   1.0\n",
      "7    Hannah    Finance   62000           6   2.0\n",
      "8       Ian         IT   75000          12   2.0\n",
      "9      Jack         HR   51000           1   3.0\n",
      "10     Kara    Finance   63000           7   1.0\n",
      "11     Liam         IT   76000          15   1.0\n"
     ]
    }
   ],
   "source": [
    "#aggiungere una nuova colonna che rappresenta il rank (consiglio cercate la funzione rank di pandas) di ogni dipendente all'interno del suo dipartimento\n",
    "\n",
    "df['Rank'] = df.groupby('Department')['Salary'].rank(ascending=False)\n",
    "\n",
    "print(\"DataFrame con nuova colonna 'Rank':\")\n",
    "print(df)"
   ]
  },
  {
   "cell_type": "code",
   "execution_count": 7,
   "metadata": {},
   "outputs": [
    {
     "name": "stdout",
     "output_type": "stream",
     "text": [
      "DataFrame raggruppato per dipartimento e ordinato per rank:\n",
      "       Name Department  Salary  Experience  Rank\n",
      "10     Kara    Finance   63000           7   1.0\n",
      "7    Hannah    Finance   62000           6   2.0\n",
      "1       Bob    Finance   60000           5   3.0\n",
      "4       Eva    Finance   58000           4   4.0\n",
      "6     Grace         HR   55000           4   1.0\n",
      "3     David         HR   52000           3   2.0\n",
      "9      Jack         HR   51000           1   3.0\n",
      "0     Alice         HR   50000           2   4.0\n",
      "11     Liam         IT   76000          15   1.0\n",
      "8       Ian         IT   75000          12   2.0\n",
      "5     Frank         IT   72000          10   3.0\n",
      "2   Charlie         IT   70000           8   4.0\n"
     ]
    }
   ],
   "source": [
    "#mostrare il dataframe raggrupato per dipartimento e ogni dipendente ordinato dal rank più alto a quello più basso\n",
    "\n",
    "df_dipartimento_rank = df.sort_values(by=['Department', 'Rank'])\n",
    "\n",
    "print(\"DataFrame raggruppato per dipartimento e ordinato per rank:\")\n",
    "print(df_dipartimento_rank)\n"
   ]
  }
 ],
 "metadata": {
  "kernelspec": {
   "display_name": "Python 3",
   "language": "python",
   "name": "python3"
  },
  "language_info": {
   "codemirror_mode": {
    "name": "ipython",
    "version": 3
   },
   "file_extension": ".py",
   "mimetype": "text/x-python",
   "name": "python",
   "nbconvert_exporter": "python",
   "pygments_lexer": "ipython3",
   "version": "3.13.0"
  }
 },
 "nbformat": 4,
 "nbformat_minor": 2
}
