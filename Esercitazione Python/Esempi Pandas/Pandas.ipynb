{
 "cells": [
  {
   "cell_type": "code",
   "execution_count": 1,
   "metadata": {},
   "outputs": [],
   "source": [
    "import pandas as pd\n",
    "import numpy as np"
   ]
  },
  {
   "cell_type": "code",
   "execution_count": null,
   "metadata": {},
   "outputs": [],
   "source": [
    "#Percorso del file CSV\n",
    "file_path = 'ex1.csv'\n",
    "\n",
    "# Caricamneto dei dati nel DataFrame\n",
    "df = pd.read_csv(file_path)\n",
    "\n",
    "#le prime righe del DataFrame per confermare\n",
    "print(df.head())"
   ]
  },
  {
   "cell_type": "code",
   "execution_count": null,
   "metadata": {},
   "outputs": [],
   "source": [
    "obj = pd.Series([4,7,-5,3])\n",
    "\n",
    "print(obj)"
   ]
  },
  {
   "cell_type": "code",
   "execution_count": null,
   "metadata": {},
   "outputs": [],
   "source": [
    "obj.array\n",
    "print(obj)"
   ]
  },
  {
   "cell_type": "code",
   "execution_count": null,
   "metadata": {},
   "outputs": [
    {
     "data": {
      "text/plain": [
       "False"
      ]
     },
     "execution_count": 16,
     "metadata": {},
     "output_type": "execute_result"
    }
   ],
   "source": [
    "obj2 = pd.Series([4,7,-5,3], index=['a','b','c','d'])\n",
    "\n",
    "#Printa i numeri maggiori di zero\n",
    "#obj2[obj2 > 0]\n",
    "\n",
    "#Moltiplico per 2 i numeri\n",
    "#print(obj*2)\n",
    "\n",
    "\n",
    "#Verifica se 'b' è presente nel Series\n",
    "#'b' in obj2\n"
   ]
  },
  {
   "cell_type": "code",
   "execution_count": null,
   "metadata": {},
   "outputs": [],
   "source": [
    "#Conevrto il dizionario in un Series\n",
    "sdata = {'Ohio': 35000, 'Texas': 71000, 'Oregon': 16000, 'Utah': 5000}\n",
    "obj3 = pd.Series(sdata)\n",
    "#print(obj3)\n",
    "\n",
    "#Converto la Series in un dizionario\n",
    "#obj3.to_dict()\n",
    "\n",
    "#Modifico gli indci del Series\n",
    "states = ['California', 'Ohio', 'Oregon', 'Texas']\n",
    "obj4 = pd.Series(sdata, index=states)\n",
    "#print(obj4)\n",
    "\n",
    "\n",
    "#Controllo se sono presenti NaN nella Series\n",
    "#pd.isna(obj4)\n",
    "#obj4.isna()\n",
    "\n",
    "#Controllo se sono presenti NaN nella Series\n",
    "#pd.notna(obj4)\n"
   ]
  },
  {
   "cell_type": "code",
   "execution_count": null,
   "metadata": {},
   "outputs": [],
   "source": [
    "#Creare dataFrame\n",
    "data = {'state': ['Ohio', 'Ohio', 'Ohio', 'Nevada', 'Nevada', 'Nevada'],\n",
    "        'year': [2000, 2001, 2002, 2001, 2002, 2003],\n",
    "        'pop' : [1.5, 1.7, 3.6, 2.4, 2.9, 3.2]}\n",
    "\n",
    "frame = pd.DataFrame(data)\n",
    "#print(frame)\n",
    "\n",
    "#Legge le prime 5 righe\n",
    "#frame.head()\n",
    "\n",
    "#Legge le ultime 5 righe\n",
    "#frame.tail()\n",
    "\n",
    "#Aggiungere una nuova colonna\n",
    "frame2 = pd.DataFrame(data, columns=['year','state','pop','debt'])\n",
    "# print(frame2)\n",
    "\n",
    "#Selezionare una colonna\n",
    "#frame['state']\n",
    "#frame.year\n",
    "\n",
    "\n",
    "#Selezionare una riga\n",
    "#frame2.loc[2]\n",
    "#frame2.iloc[2]\n",
    "\n",
    "#Inserire una nuova riga\n",
    "# frame2[\"debt\"] = 16.5\n",
    "# frame2[\"debt\"] = np.arange(6)\n",
    "# print(frame2)\n",
    "\n",
    "#eliminare una colonna\n",
    "#del frame2['debt']\n",
    "\n",
    "population = { \"Ohio\" : {2000: 1.5, 2001: 1.5, 2002: 3.6},\n",
    "               \"Nevada\" : {2000: 1.5, 2001: 2.9}}\n",
    "\n",
    "frame3 = pd.DataFrame(population)\n",
    "\n",
    "print(frame3)\n",
    "\n",
    "\n",
    "frame3.index.name = 'years'\n",
    "frame3.columns.name ='states'\n",
    "\n",
    "print(frame3)\n"
   ]
  },
  {
   "cell_type": "code",
   "execution_count": 32,
   "metadata": {},
   "outputs": [],
   "source": [
    "obj = pd.Series([4.5, 7.2, -5.3, 3.6], index=['d', 'b', 'a', 'c'])"
   ]
  },
  {
   "cell_type": "code",
   "execution_count": null,
   "metadata": {},
   "outputs": [],
   "source": [
    "obj2 = obj.reindex(['a', 'b', 'c', 'd','e'])\n",
    "\n",
    "print(obj2)"
   ]
  },
  {
   "cell_type": "code",
   "execution_count": null,
   "metadata": {},
   "outputs": [],
   "source": [
    "obj3 = pd.Series(['blue', 'purple', 'yellow'], index=[0, 2, 4])\n",
    "\n",
    "obj3.reindex(np.arange(6), method= 'ffill')\n"
   ]
  },
  {
   "cell_type": "code",
   "execution_count": null,
   "metadata": {},
   "outputs": [],
   "source": [
    "df = pd.DataFrame( [[1.4, np.nan], [7.1, -4.5], [np.nan, np.nan], [0.75, -1.25]], index=['a', 'b', 'c', 'd'], columns=['one', 'two'])\n",
    "print(df)\n",
    "\n",
    "df.sum()\n",
    "\n",
    "df.sum(axis=\"columns\")\n",
    "\n",
    "df.idxmax()\n",
    "\n",
    "df.describe()"
   ]
  },
  {
   "cell_type": "code",
   "execution_count": 42,
   "metadata": {},
   "outputs": [
    {
     "name": "stdout",
     "output_type": "stream",
     "text": [
      "          food  ounces\n",
      "0        bacon     4.0\n",
      "1  pulled pork     3.0\n",
      "2        bacon    12.0\n",
      "3     pastrami     6.0\n",
      "4  corned beef     7.5\n",
      "5        bacon     8.0\n",
      "6     pastrami     3.0\n",
      "7    honey ham     5.0\n",
      "8     nova lox     6.0\n"
     ]
    }
   ],
   "source": [
    "data = pd.DataFrame({\"food\":[\"bacon\",\"pulled pork\",\"bacon\",\"pastrami\",\"corned beef\", \"bacon\", \"pastrami\", \"honey ham\", \"nova lox\"], \"ounces\":[4,3,12,6,7.5,8,3,5,6]})\n",
    "\n",
    "print(data)"
   ]
  },
  {
   "cell_type": "code",
   "execution_count": null,
   "metadata": {},
   "outputs": [],
   "source": [
    "meat_to_animal = {\"bacon\":\"pig\", \"pulled pork\":\"pig\", \"pastrami\":\"cow\", \"corned beef\":\"cow\", \"honey ham\":\"pig\", \"nova lox\":\"salmon\"}\n",
    "\n",
    "\n",
    "data[\"animal\"] = data[\"food\"].map(meat_to_animal)\n",
    "\n",
    "print(data)"
   ]
  },
  {
   "cell_type": "code",
   "execution_count": null,
   "metadata": {},
   "outputs": [],
   "source": [
    "serie4 = pd.Series([1.,-999.,2.,-999.,-1000.,3.])\n",
    "\n",
    "print(serie4)\n",
    "\n",
    "#serie4.replace([-999,-1000], np.nan, inplace=True)\n",
    "\n",
    "serie4[serie4 < 1] = np.nan\n",
    "\n",
    "print(serie4)"
   ]
  },
  {
   "cell_type": "code",
   "execution_count": null,
   "metadata": {},
   "outputs": [],
   "source": [
    "df = pd.DataFrame({\"key1\":[\"a\", \"a\", None, \"b\", \"b\", \"a\", None],\n",
    "                   \"key2\" : pd.Series([1, 2, 1, 2, 1, None, 1], dtype=\"Int64\"),                    \n",
    "                   \"data1\" : np.random.standard_normal(7),\n",
    "                   \"data2\" : np.random.standard_normal(7)})\n",
    "\n",
    "print(df)\n",
    "\n",
    "grouped = df[\"data1\"].groupby(df[\"key1\"])\n",
    "\n",
    "grouped1 = df[\"data1\"].groupby([df[\"key1\"], df[\"key2\"]])\n",
    "\n",
    "print(grouped1.mean())"
   ]
  },
  {
   "cell_type": "code",
   "execution_count": null,
   "metadata": {},
   "outputs": [],
   "source": []
  }
 ],
 "metadata": {
  "kernelspec": {
   "display_name": "Python 3",
   "language": "python",
   "name": "python3"
  },
  "language_info": {
   "codemirror_mode": {
    "name": "ipython",
    "version": 3
   },
   "file_extension": ".py",
   "mimetype": "text/x-python",
   "name": "python",
   "nbconvert_exporter": "python",
   "pygments_lexer": "ipython3",
   "version": "3.13.0"
  }
 },
 "nbformat": 4,
 "nbformat_minor": 2
}
